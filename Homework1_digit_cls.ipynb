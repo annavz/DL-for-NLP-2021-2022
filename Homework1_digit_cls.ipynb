{
 "cells": [
  {
   "cell_type": "markdown",
   "metadata": {
    "id": "P8tDK5A9OCM7"
   },
   "source": [
    "## Домашняя работа №1 Part1\n",
    "Вам предстоит:\n",
    "\n",
    "Написать персептрон с двумя слоями. Реализовать форвард и бэквард пропогейшен\n",
    "\n"
   ]
  },
  {
   "cell_type": "code",
   "execution_count": 1,
   "metadata": {
    "id": "c5IbKpsMN_F1"
   },
   "outputs": [],
   "source": [
    "import numpy as np\n",
    "from sklearn.metrics import classification_report\n",
    "import torch\n",
    "from torch.utils.data import DataLoader\n",
    "from torchvision.datasets import MNIST\n",
    "from torchvision import transforms\n",
    "import matplotlib.pyplot as plt\n",
    "from tqdm import tqdm\n",
    "from sklearn.metrics import accuracy_score\n",
    "import time"
   ]
  },
  {
   "cell_type": "markdown",
   "metadata": {
    "id": "zQRYevLNN_GA"
   },
   "source": [
    "# Датасет\n",
    "Загрузим Мнист. Почему именно он? Мы будем решать задачу бинарной классификации на паре цифр: 3 и 7. Плюсы в том, что примеров для этих чисел достаточно, чтобы обучить НС, у каждого примера не так много фичей (28Х28 - размерность картинок) и, в целом, эти классы хорошо отделяются. Я б с радостью показал вам пример с текстами, но если писать НС с нуля и пытаться обучаться на текстах, не факт, что у нас хоть что то обучится :(  \n",
    "  "
   ]
  },
  {
   "cell_type": "markdown",
   "metadata": {
    "id": "EtMN4ZlSN_GC"
   },
   "source": [
    "Торч - объект, который позволяет нормализовать картинки, можно думать о нем как о предобработке (регулярках) для текстов. В целом не стоит здесь долго думать"
   ]
  },
  {
   "cell_type": "code",
   "execution_count": 2,
   "metadata": {
    "id": "BMugicmkN_GE"
   },
   "outputs": [],
   "source": [
    "transform = transforms.Compose([\n",
    "    transforms.ToTensor(),\n",
    "    transforms.Normalize((0.1307,), (0.3081,))\n",
    "])"
   ]
  },
  {
   "cell_type": "markdown",
   "metadata": {
    "id": "actIVoMKN_GJ"
   },
   "source": [
    "Загружаем датасет. Возращается особенный торчовый класс, чуть ниже мы зададим его сами и научимся им полльзоваться, пока оставляем эз из.\n"
   ]
  },
  {
   "cell_type": "code",
   "execution_count": 3,
   "metadata": {
    "colab": {
     "base_uri": "https://localhost:8080/",
     "height": 255
    },
    "id": "fQpJqIWrN_GK",
    "outputId": "2ed59df6-e5df-4487-dc74-74950632d80c"
   },
   "outputs": [],
   "source": [
    "train_dataset = MNIST('.', train=True, download=True, transform=transform)\n",
    "test_dataset = MNIST('.', train=False, transform=transform)"
   ]
  },
  {
   "cell_type": "markdown",
   "metadata": {
    "id": "aUSUIJbUN_GQ"
   },
   "source": [
    "Выбираем два класса. Если вы достаточно хорошо знакомы с пандас, то можно понять, что никакой магии здесь нет."
   ]
  },
  {
   "cell_type": "code",
   "execution_count": 4,
   "metadata": {
    "id": "vx73oHg9N_GS"
   },
   "outputs": [],
   "source": [
    "#фильтруем фичи (дата) по значению классификационных лэйблов (таргет), берем или цифру 3 или цифру 7\n",
    "train_dataset.data = train_dataset.data[(train_dataset.targets == 3) | (train_dataset.targets == 7)]\n",
    "train_dataset.targets = train_dataset.targets[(train_dataset.targets == 3) | (train_dataset.targets == 7)]\n",
    "#то же самое для тестового набора\n",
    "test_dataset.data = test_dataset.data[(test_dataset.targets == 3) | (test_dataset.targets == 7)]\n",
    "test_dataset.targets = test_dataset.targets[(test_dataset.targets == 3) | (test_dataset.targets == 7)]\n",
    "#необходимы препроцессинг лейблов, видимо не все значения имею тип integer, а нам нужен именно этот тип функция лонг позволяет нам \n",
    "#        это сделать (self.long() is equivalent to self.to(torch.int64). See to())\n",
    "train_dataset.targets = (train_dataset.targets == 7).long()\n",
    "test_dataset.targets = (test_dataset.targets == 7).long()"
   ]
  },
  {
   "cell_type": "markdown",
   "metadata": {
    "id": "RHelnPG0N_GX"
   },
   "source": [
    "Мы неоднократно говорили, что НС обычно тренируются бачами, в торче есть удобный класс, который позволяет обернуть наши датасеты в итерируемый объект. Если не знаете что такое итерируемый объект, погуглите :) можно думать об этом как о списке с составными элементами (элемент - батч - набор примеров) "
   ]
  },
  {
   "cell_type": "code",
   "execution_count": 119,
   "metadata": {
    "id": "ENLomAueN_GZ"
   },
   "outputs": [],
   "source": [
    "train_loader = DataLoader(train_dataset, batch_size=128, shuffle=True, drop_last=True)\n",
    "test_loader = DataLoader(test_dataset, batch_size=128, shuffle=False, drop_last=True)"
   ]
  },
  {
   "cell_type": "code",
   "execution_count": 120,
   "metadata": {
    "colab": {
     "base_uri": "https://localhost:8080/",
     "height": 952
    },
    "id": "rdvq5scBXtWY",
    "outputId": "b3ea3409-955b-433a-ac9e-084b117dbcc7"
   },
   "outputs": [
    {
     "data": {
      "text/plain": [
       "tensor([[[[-0.4242, -0.4242, -0.4242,  ..., -0.4242, -0.4242, -0.4242],\n",
       "          [-0.4242, -0.4242, -0.4242,  ..., -0.4242, -0.4242, -0.4242],\n",
       "          [-0.4242, -0.4242, -0.4242,  ..., -0.4242, -0.4242, -0.4242],\n",
       "          ...,\n",
       "          [-0.4242, -0.4242, -0.4242,  ..., -0.4242, -0.4242, -0.4242],\n",
       "          [-0.4242, -0.4242, -0.4242,  ..., -0.4242, -0.4242, -0.4242],\n",
       "          [-0.4242, -0.4242, -0.4242,  ..., -0.4242, -0.4242, -0.4242]]],\n",
       "\n",
       "\n",
       "        [[[-0.4242, -0.4242, -0.4242,  ..., -0.4242, -0.4242, -0.4242],\n",
       "          [-0.4242, -0.4242, -0.4242,  ..., -0.4242, -0.4242, -0.4242],\n",
       "          [-0.4242, -0.4242, -0.4242,  ..., -0.4242, -0.4242, -0.4242],\n",
       "          ...,\n",
       "          [-0.4242, -0.4242, -0.4242,  ..., -0.4242, -0.4242, -0.4242],\n",
       "          [-0.4242, -0.4242, -0.4242,  ..., -0.4242, -0.4242, -0.4242],\n",
       "          [-0.4242, -0.4242, -0.4242,  ..., -0.4242, -0.4242, -0.4242]]],\n",
       "\n",
       "\n",
       "        [[[-0.4242, -0.4242, -0.4242,  ..., -0.4242, -0.4242, -0.4242],\n",
       "          [-0.4242, -0.4242, -0.4242,  ..., -0.4242, -0.4242, -0.4242],\n",
       "          [-0.4242, -0.4242, -0.4242,  ..., -0.4242, -0.4242, -0.4242],\n",
       "          ...,\n",
       "          [-0.4242, -0.4242, -0.4242,  ..., -0.4242, -0.4242, -0.4242],\n",
       "          [-0.4242, -0.4242, -0.4242,  ..., -0.4242, -0.4242, -0.4242],\n",
       "          [-0.4242, -0.4242, -0.4242,  ..., -0.4242, -0.4242, -0.4242]]],\n",
       "\n",
       "\n",
       "        ...,\n",
       "\n",
       "\n",
       "        [[[-0.4242, -0.4242, -0.4242,  ..., -0.4242, -0.4242, -0.4242],\n",
       "          [-0.4242, -0.4242, -0.4242,  ..., -0.4242, -0.4242, -0.4242],\n",
       "          [-0.4242, -0.4242, -0.4242,  ..., -0.4242, -0.4242, -0.4242],\n",
       "          ...,\n",
       "          [-0.4242, -0.4242, -0.4242,  ..., -0.4242, -0.4242, -0.4242],\n",
       "          [-0.4242, -0.4242, -0.4242,  ..., -0.4242, -0.4242, -0.4242],\n",
       "          [-0.4242, -0.4242, -0.4242,  ..., -0.4242, -0.4242, -0.4242]]],\n",
       "\n",
       "\n",
       "        [[[-0.4242, -0.4242, -0.4242,  ..., -0.4242, -0.4242, -0.4242],\n",
       "          [-0.4242, -0.4242, -0.4242,  ..., -0.4242, -0.4242, -0.4242],\n",
       "          [-0.4242, -0.4242, -0.4242,  ..., -0.4242, -0.4242, -0.4242],\n",
       "          ...,\n",
       "          [-0.4242, -0.4242, -0.4242,  ..., -0.4242, -0.4242, -0.4242],\n",
       "          [-0.4242, -0.4242, -0.4242,  ..., -0.4242, -0.4242, -0.4242],\n",
       "          [-0.4242, -0.4242, -0.4242,  ..., -0.4242, -0.4242, -0.4242]]],\n",
       "\n",
       "\n",
       "        [[[-0.4242, -0.4242, -0.4242,  ..., -0.4242, -0.4242, -0.4242],\n",
       "          [-0.4242, -0.4242, -0.4242,  ..., -0.4242, -0.4242, -0.4242],\n",
       "          [-0.4242, -0.4242, -0.4242,  ..., -0.4242, -0.4242, -0.4242],\n",
       "          ...,\n",
       "          [-0.4242, -0.4242, -0.4242,  ..., -0.4242, -0.4242, -0.4242],\n",
       "          [-0.4242, -0.4242, -0.4242,  ..., -0.4242, -0.4242, -0.4242],\n",
       "          [-0.4242, -0.4242, -0.4242,  ..., -0.4242, -0.4242, -0.4242]]]])"
      ]
     },
     "execution_count": 120,
     "metadata": {},
     "output_type": "execute_result"
    }
   ],
   "source": [
    "X, y = next(iter(train_loader)) #next(iter(x) - Возвращает следующий элемент итератора.\n",
    "X"
   ]
  },
  {
   "cell_type": "code",
   "execution_count": 121,
   "metadata": {
    "colab": {
     "base_uri": "https://localhost:8080/",
     "height": 119
    },
    "id": "SAaI0uHWYUrb",
    "outputId": "b9a743d2-f2be-4930-dba3-e9ab123e20b5"
   },
   "outputs": [
    {
     "data": {
      "text/plain": [
       "tensor([0, 1, 1, 1, 1, 1, 1, 1, 1, 0, 0, 0, 1, 1, 1, 1, 1, 0, 0, 0, 1, 0, 0, 1,\n",
       "        1, 0, 1, 1, 0, 1, 1, 0, 1, 1, 0, 1, 1, 0, 1, 0, 1, 1, 1, 1, 0, 0, 1, 1,\n",
       "        1, 1, 0, 1, 0, 0, 0, 1, 1, 0, 0, 0, 0, 1, 0, 1, 0, 0, 0, 1, 0, 0, 1, 1,\n",
       "        1, 1, 0, 1, 0, 1, 0, 1, 1, 1, 1, 1, 1, 0, 0, 0, 1, 0, 0, 0, 0, 0, 1, 0,\n",
       "        1, 1, 1, 0, 0, 1, 1, 0, 0, 0, 1, 1, 0, 1, 1, 1, 1, 0, 1, 1, 1, 0, 1, 0,\n",
       "        1, 0, 0, 1, 0, 1, 1, 1])"
      ]
     },
     "execution_count": 121,
     "metadata": {},
     "output_type": "execute_result"
    }
   ],
   "source": [
    "y"
   ]
  },
  {
   "cell_type": "markdown",
   "metadata": {
    "id": "KPw6jv5hYXhV"
   },
   "source": [
    "Никакой магии, просто многомерные матрицы. Можно даже проверить, что то, что мы получили, то есть первый батч имееет правильную размерность.В y - 1 это класс цифры \"7\", 0 - \"3\""
   ]
  },
  {
   "cell_type": "code",
   "execution_count": 122,
   "metadata": {
    "colab": {
     "base_uri": "https://localhost:8080/",
     "height": 34
    },
    "id": "mQH1_6dSYlnW",
    "outputId": "f6f72aba-2367-442f-eb82-10f38c7d039d"
   },
   "outputs": [
    {
     "data": {
      "text/plain": [
       "torch.Size([128, 1, 28, 28])"
      ]
     },
     "execution_count": 122,
     "metadata": {},
     "output_type": "execute_result"
    }
   ],
   "source": [
    "X.shape #128 - примеров, [1, 28, 28] - размерность картинки, 1 - значит что из трех каналов (Р, Г, Б) у нас всего один, а сама картинка 28 на 28"
   ]
  },
  {
   "cell_type": "code",
   "execution_count": 123,
   "metadata": {
    "colab": {
     "base_uri": "https://localhost:8080/",
     "height": 34
    },
    "id": "yGAYt4oqYpW5",
    "outputId": "28184602-483d-45e4-f6b1-3b82cec0d19f"
   },
   "outputs": [
    {
     "data": {
      "text/plain": [
       "torch.Size([128])"
      ]
     },
     "execution_count": 123,
     "metadata": {},
     "output_type": "execute_result"
    }
   ],
   "source": [
    "y.shape"
   ]
  },
  {
   "cell_type": "markdown",
   "metadata": {
    "id": "CNVEJYNXN_Gd"
   },
   "source": [
    "Проверим, правда ли это картинки"
   ]
  },
  {
   "cell_type": "code",
   "execution_count": 124,
   "metadata": {
    "colab": {
     "base_uri": "https://localhost:8080/",
     "height": 420
    },
    "id": "-Kkv2jAKN_Ge",
    "outputId": "10a727e2-6340-4f62-91fa-6f0e441c86ac"
   },
   "outputs": [
    {
     "data": {
      "image/png": "[encoded data removed]",
      "text/plain": [
       "<Figure size 432x504 with 25 Axes>"
      ]
     },
     "metadata": {
      "needs_background": "light"
     },
     "output_type": "display_data"
    }
   ],
   "source": [
    "X, y = next(iter(train_loader))\n",
    "X = X.numpy() # перевод тензора в массив нумпай, просто изменение типа данных \n",
    "y = y.numpy()\n",
    "\n",
    "plt.figure(figsize=(6, 7))\n",
    "for i in range(25):\n",
    "    plt.subplot(5, 5, i+1)\n",
    "    plt.imshow(X[i].reshape(28, 28), cmap=plt.cm.Greys_r)\n",
    "    plt.title(y[i])\n",
    "    plt.axis('off')"
   ]
  },
  {
   "cell_type": "markdown",
   "metadata": {
    "id": "jL6Cd-7tb29_"
   },
   "source": [
    "Нам столько размерностей не нужно, поэтому давайте выпрямим матрицу, тем боле мы знаем что значение каждого пикселя независимо друг друга."
   ]
  },
  {
   "cell_type": "code",
   "execution_count": 125,
   "metadata": {
    "colab": {
     "base_uri": "https://localhost:8080/",
     "height": 34
    },
    "id": "tDiEEUYJN_G6",
    "outputId": "c057b0ba-904b-4a91-e982-db48628aa346"
   },
   "outputs": [
    {
     "data": {
      "text/plain": [
       "torch.Size([128, 784])"
      ]
     },
     "execution_count": 125,
     "metadata": {},
     "output_type": "execute_result"
    }
   ],
   "source": [
    "X, y = next(iter(train_loader))\n",
    "X = X.view(X.shape[0], -1)\n",
    "X.shape"
   ]
  },
  {
   "cell_type": "markdown",
   "metadata": {
    "id": "6_m0y3z9N_HN"
   },
   "source": [
    " Размерность\n",
    "- количество примеров в батче\n",
    "- количество фичей"
   ]
  },
  {
   "cell_type": "code",
   "execution_count": 126,
   "metadata": {
    "colab": {
     "base_uri": "https://localhost:8080/",
     "height": 119
    },
    "id": "0rRs_fibN_HX",
    "outputId": "e029c693-4927-4781-e4a7-8ee3a4b02d1e"
   },
   "outputs": [
    {
     "data": {
      "text/plain": [
       "tensor([1, 1, 0, 0, 1, 0, 1, 0, 0, 0, 1, 1, 0, 1, 0, 0, 0, 1, 1, 1, 0, 1, 0, 1,\n",
       "        0, 1, 0, 1, 0, 0, 1, 1, 1, 0, 1, 0, 1, 1, 1, 1, 0, 0, 0, 0, 1, 0, 0, 0,\n",
       "        1, 1, 1, 1, 0, 0, 1, 1, 1, 1, 0, 1, 0, 0, 1, 1, 1, 1, 1, 1, 1, 1, 0, 0,\n",
       "        0, 1, 0, 0, 1, 1, 1, 0, 0, 1, 0, 1, 0, 1, 1, 0, 1, 1, 0, 0, 0, 1, 1, 0,\n",
       "        1, 1, 1, 1, 0, 0, 0, 0, 0, 0, 1, 1, 0, 1, 1, 1, 1, 1, 1, 1, 1, 0, 0, 0,\n",
       "        1, 0, 0, 1, 0, 0, 1, 1])"
      ]
     },
     "execution_count": 126,
     "metadata": {},
     "output_type": "execute_result"
    }
   ],
   "source": [
    "y"
   ]
  },
  {
   "cell_type": "markdown",
   "metadata": {
    "id": "Z4vTsvPZdPQg"
   },
   "source": [
    "Такой У нам не совсем подходит. Сейчас объясню почему. Размерность Х (128,784) матрично перемножим на скрытый слой (784,1) и получится (128,1). Нужно понимать, что размерность (128,) и (128,1) это немного разные вещи  "
   ]
  },
  {
   "cell_type": "code",
   "execution_count": 127,
   "metadata": {
    "colab": {
     "base_uri": "https://localhost:8080/",
     "height": 34
    },
    "id": "98g7689ON_Hc",
    "outputId": "007d721e-ebd9-4752-d948-97887b4917bd"
   },
   "outputs": [
    {
     "data": {
      "text/plain": [
       "torch.Size([128, 1])"
      ]
     },
     "execution_count": 127,
     "metadata": {},
     "output_type": "execute_result"
    }
   ],
   "source": [
    "w = torch.rand(784, 1) #Рандомные необученые веса\n",
    "pred = X.matmul(w)\n",
    "pred.shape"
   ]
  },
  {
   "cell_type": "code",
   "execution_count": 128,
   "metadata": {
    "colab": {
     "base_uri": "https://localhost:8080/",
     "height": 1000
    },
    "id": "KG9L5xtJd9TQ",
    "outputId": "6e5671bc-eb6a-4e20-f5c9-2d391b067d4a"
   },
   "outputs": [
    {
     "data": {
      "text/plain": [
       "tensor([[-19.0887],\n",
       "        [-57.6491],\n",
       "        [ 46.0757],\n",
       "        [ 78.5908],\n",
       "        [ 40.4612],\n",
       "        [ 28.3013],\n",
       "        [ 13.3572],\n",
       "        [-62.7498],\n",
       "        [  8.7855],\n",
       "        [-52.8788],\n",
       "        [-18.0760],\n",
       "        [-77.9048],\n",
       "        [-57.4161],\n",
       "        [-66.3660],\n",
       "        [ 28.4663],\n",
       "        [ 12.6711],\n",
       "        [ 42.2899],\n",
       "        [ 15.3885],\n",
       "        [-69.2476],\n",
       "        [-34.0593],\n",
       "        [-43.7242],\n",
       "        [ 14.4207],\n",
       "        [-17.8481],\n",
       "        [-66.2747],\n",
       "        [ 51.5787],\n",
       "        [ -5.6452],\n",
       "        [ 44.8889],\n",
       "        [  9.9211],\n",
       "        [-62.0601],\n",
       "        [ -4.3453],\n",
       "        [ -7.5310],\n",
       "        [-34.1882],\n",
       "        [  5.8520],\n",
       "        [-18.3029],\n",
       "        [-82.4514],\n",
       "        [ -1.9361],\n",
       "        [ 46.4981],\n",
       "        [-27.9741],\n",
       "        [ 27.2916],\n",
       "        [-14.6567],\n",
       "        [ 36.3092],\n",
       "        [-48.1214],\n",
       "        [ 14.5582],\n",
       "        [ -5.6407],\n",
       "        [-65.7786],\n",
       "        [-21.2703],\n",
       "        [ 13.4376],\n",
       "        [-67.1684],\n",
       "        [-57.0168],\n",
       "        [-35.6988],\n",
       "        [-39.2562],\n",
       "        [-43.3503],\n",
       "        [ -4.4406],\n",
       "        [-62.4934],\n",
       "        [-66.9413],\n",
       "        [-74.7435],\n",
       "        [-73.0866],\n",
       "        [-43.3896],\n",
       "        [-19.4466],\n",
       "        [-23.0164],\n",
       "        [ 71.0994],\n",
       "        [  8.5471],\n",
       "        [-48.1460],\n",
       "        [  5.2394],\n",
       "        [-14.2979],\n",
       "        [ 34.6735],\n",
       "        [-33.6781],\n",
       "        [-18.8299],\n",
       "        [-22.6589],\n",
       "        [-15.3558],\n",
       "        [  4.8174],\n",
       "        [ 75.8048],\n",
       "        [146.8546],\n",
       "        [-77.7535],\n",
       "        [ 12.4528],\n",
       "        [ 27.1100],\n",
       "        [-21.5589],\n",
       "        [-50.8573],\n",
       "        [-14.6333],\n",
       "        [ -8.9540],\n",
       "        [-41.0999],\n",
       "        [-64.1375],\n",
       "        [134.9700],\n",
       "        [-73.4318],\n",
       "        [ 54.2028],\n",
       "        [-34.2314],\n",
       "        [-84.2607],\n",
       "        [-41.7230],\n",
       "        [-28.7040],\n",
       "        [-83.6572],\n",
       "        [-77.7063],\n",
       "        [ 98.4367],\n",
       "        [-37.2102],\n",
       "        [-49.5457],\n",
       "        [-44.0752],\n",
       "        [ 86.9483],\n",
       "        [ -5.6726],\n",
       "        [-28.1815],\n",
       "        [ 11.6890],\n",
       "        [-18.0307],\n",
       "        [-96.4812],\n",
       "        [ 20.7257],\n",
       "        [ 49.3359],\n",
       "        [ -9.6974],\n",
       "        [ -0.4198],\n",
       "        [-38.7218],\n",
       "        [ 24.8987],\n",
       "        [ -5.9917],\n",
       "        [-29.3726],\n",
       "        [-90.9613],\n",
       "        [-36.3665],\n",
       "        [ -6.1124],\n",
       "        [ 12.1249],\n",
       "        [-72.4066],\n",
       "        [-88.5747],\n",
       "        [-47.6473],\n",
       "        [ 44.1427],\n",
       "        [ 28.6678],\n",
       "        [-28.1522],\n",
       "        [-45.4983],\n",
       "        [ -9.8122],\n",
       "        [-99.5902],\n",
       "        [-59.1975],\n",
       "        [-53.2812],\n",
       "        [ 46.5902],\n",
       "        [ 16.3701],\n",
       "        [-74.1319],\n",
       "        [-67.4703]])"
      ]
     },
     "execution_count": 128,
     "metadata": {},
     "output_type": "execute_result"
    }
   ],
   "source": [
    "pred"
   ]
  },
  {
   "cell_type": "markdown",
   "metadata": {
    "id": "Rb1hswcGeEpc"
   },
   "source": [
    "Теперь у нас есть предсказания и их размерность (128,1). Нужно будет счтить лосс с у, поэтому приведем его к такой же размерности с expand_dims - это функция есть в нумпае, также есть и в торче"
   ]
  },
  {
   "cell_type": "code",
   "execution_count": 129,
   "metadata": {
    "id": "wAIFQMfwN_Hl"
   },
   "outputs": [],
   "source": [
    "y = np.expand_dims(y, 1)"
   ]
  },
  {
   "cell_type": "code",
   "execution_count": 130,
   "metadata": {
    "colab": {
     "base_uri": "https://localhost:8080/",
     "height": 1000
    },
    "id": "SrlrvUq7N_Hw",
    "outputId": "3a38d8c2-f9ce-4565-c289-fd32ac79dec1"
   },
   "outputs": [
    {
     "data": {
      "text/plain": [
       "array([[1],\n",
       "       [1],\n",
       "       [0],\n",
       "       [0],\n",
       "       [1],\n",
       "       [0],\n",
       "       [1],\n",
       "       [0],\n",
       "       [0],\n",
       "       [0],\n",
       "       [1],\n",
       "       [1],\n",
       "       [0],\n",
       "       [1],\n",
       "       [0],\n",
       "       [0],\n",
       "       [0],\n",
       "       [1],\n",
       "       [1],\n",
       "       [1],\n",
       "       [0],\n",
       "       [1],\n",
       "       [0],\n",
       "       [1],\n",
       "       [0],\n",
       "       [1],\n",
       "       [0],\n",
       "       [1],\n",
       "       [0],\n",
       "       [0],\n",
       "       [1],\n",
       "       [1],\n",
       "       [1],\n",
       "       [0],\n",
       "       [1],\n",
       "       [0],\n",
       "       [1],\n",
       "       [1],\n",
       "       [1],\n",
       "       [1],\n",
       "       [0],\n",
       "       [0],\n",
       "       [0],\n",
       "       [0],\n",
       "       [1],\n",
       "       [0],\n",
       "       [0],\n",
       "       [0],\n",
       "       [1],\n",
       "       [1],\n",
       "       [1],\n",
       "       [1],\n",
       "       [0],\n",
       "       [0],\n",
       "       [1],\n",
       "       [1],\n",
       "       [1],\n",
       "       [1],\n",
       "       [0],\n",
       "       [1],\n",
       "       [0],\n",
       "       [0],\n",
       "       [1],\n",
       "       [1],\n",
       "       [1],\n",
       "       [1],\n",
       "       [1],\n",
       "       [1],\n",
       "       [1],\n",
       "       [1],\n",
       "       [0],\n",
       "       [0],\n",
       "       [0],\n",
       "       [1],\n",
       "       [0],\n",
       "       [0],\n",
       "       [1],\n",
       "       [1],\n",
       "       [1],\n",
       "       [0],\n",
       "       [0],\n",
       "       [1],\n",
       "       [0],\n",
       "       [1],\n",
       "       [0],\n",
       "       [1],\n",
       "       [1],\n",
       "       [0],\n",
       "       [1],\n",
       "       [1],\n",
       "       [0],\n",
       "       [0],\n",
       "       [0],\n",
       "       [1],\n",
       "       [1],\n",
       "       [0],\n",
       "       [1],\n",
       "       [1],\n",
       "       [1],\n",
       "       [1],\n",
       "       [0],\n",
       "       [0],\n",
       "       [0],\n",
       "       [0],\n",
       "       [0],\n",
       "       [0],\n",
       "       [1],\n",
       "       [1],\n",
       "       [0],\n",
       "       [1],\n",
       "       [1],\n",
       "       [1],\n",
       "       [1],\n",
       "       [1],\n",
       "       [1],\n",
       "       [1],\n",
       "       [1],\n",
       "       [0],\n",
       "       [0],\n",
       "       [0],\n",
       "       [1],\n",
       "       [0],\n",
       "       [0],\n",
       "       [1],\n",
       "       [0],\n",
       "       [0],\n",
       "       [1],\n",
       "       [1]], dtype=int64)"
      ]
     },
     "execution_count": 130,
     "metadata": {},
     "output_type": "execute_result"
    }
   ],
   "source": [
    "y"
   ]
  },
  {
   "cell_type": "markdown",
   "metadata": {
    "id": "TFAKpwY_N_H_"
   },
   "source": [
    "Итерация по эпохам"
   ]
  },
  {
   "cell_type": "code",
   "execution_count": 131,
   "metadata": {
    "colab": {
     "base_uri": "https://localhost:8080/",
     "height": 68
    },
    "id": "DWmQFlyWN_IB",
    "outputId": "5317f355-03fc-443c-90b2-811c563ac813"
   },
   "outputs": [
    {
     "name": "stdout",
     "output_type": "stream",
     "text": [
      "Эпоха - 1, прошли - 99.13 % датасета\n",
      "Эпоха - 2, прошли - 99.13 % датасета\n",
      "Эпоха - 3, прошли - 99.13 % датасета\n"
     ]
    }
   ],
   "source": [
    "epochs = 3\n",
    "\n",
    "for n_epoch in range(epochs):\n",
    "    \n",
    "    dataset_passed_samples = 0\n",
    "    \n",
    "    for x, y in train_loader:\n",
    "        \n",
    "        # вот здесь мы могли бы как-то манипулировать с данными, например, учить, но пока этого делать не будет\n",
    "        \n",
    "        time.sleep(0.05)\n",
    "        \n",
    "        dataset_passed_samples += x.shape[0]\n",
    "        \n",
    "        dataset_passed_percent = dataset_passed_samples * 100 / train_loader.dataset.data.shape[0]\n",
    "        \n",
    "        print(f'Эпоха - {n_epoch + 1}, прошли - {dataset_passed_percent:.2f} % датасета', end='\\r')\n",
    "        \n",
    "    print('\\r')"
   ]
  },
  {
   "cell_type": "markdown",
   "metadata": {
    "id": "8iBd9MS_f7Eg"
   },
   "source": [
    "# Однослойный персептрон"
   ]
  },
  {
   "cell_type": "code",
   "execution_count": 144,
   "metadata": {
    "colab": {
     "base_uri": "https://localhost:8080/",
     "height": 102
    },
    "id": "x9wKt3z1gIo7",
    "outputId": "1eff2785-550d-4042-b511-05a050f71c96"
   },
   "outputs": [
    {
     "name": "stdout",
     "output_type": "stream",
     "text": [
      "Epoch: 1\n",
      "Epoch: 2\n",
      "Epoch: 3\n",
      "Epoch: 4\n",
      "Epoch: 5\n"
     ]
    }
   ],
   "source": [
    "learning_rate = 0.01 # тот самый лернинг рейт, который определяет какую часть от градиента мы будем брать\n",
    "epochs = 5  #сколько раз мы пройдем по всему тренировачному набору наших данных\n",
    "\n",
    "batch_size = 128  #это число примеров в баче понадобится нам при обучении чтобы усреднять лосс (ошибку обучения)\n",
    "n_feat = 784\n",
    "\n",
    "w1 = np.random.rand(n_feat,1)*0.01 #0.01 - нормируем таким образом наши веса, чтобы избежать деления на ноль при бэкпропе, \n",
    "                                    #эмпирически выбрано, так как сами фичи у нас имеют значения близкие к 0\n",
    "b1 = np.zeros(1) #размерность должна совпадать с количеством параметров, которые у нас останутся после матричного перемножения\n",
    "\n",
    "losses = [] #на каждой итерации (и для всех эпох) будем сохранять сюда наш Лосс, чтобы видеть обучается ли НС\n",
    "\n",
    "for n_epoch in range(epochs):\n",
    "    \n",
    "    print(f'Epoch: {n_epoch + 1}')\n",
    "    \n",
    "    for x, y in train_loader:\n",
    "\n",
    "        x = x.view(x.shape[0], -1).numpy() #приводим к размерности (128,784)\n",
    "        y = np.expand_dims(y.numpy(), 1) #приводим к размерности (128,1)\n",
    "\n",
    "        h1 = x.dot(w1) + b1 #переход в одномерное пространство\n",
    "        p = 1/(1+np.exp(-h1)) #преобразование в \"вероятности\"\n",
    "        \n",
    "        bce = (-np.sum(np.multiply(np.log(p), y) + np.multiply((1 - y), np.log(1 - p)))) / batch_size \n",
    "        #расчет энтропии с усреднением по размеру бача\n",
    "          \n",
    "        losses.append(bce) \n",
    "        #ниже производная bce и sigmoid, если вы распишите две этих производные, перемножите и сократите, то полчится следующая строчка\n",
    "        dp = (p - y) / batch_size \n",
    "        dw1 = np.dot(x.T, dp) # производная по линейному преобразванию, относительно W - весов \n",
    "        db1 = np.sum(dp) # производная по лин преобразованиюб относительно В - баяса, \n",
    "        #здесь по идее должно быть перемножение на единичный вектор (128,1), но это тоже самое что и сумма значениеб типа лайф хак\n",
    "        \n",
    "        w1 -= learning_rate * dw1 # Обновим веса и баясы \n",
    "        b1 -= learning_rate * db1"
   ]
  },
  {
   "cell_type": "markdown",
   "metadata": {
    "id": "Lc3-pw-4wMum"
   },
   "source": [
    "А теперь построим график функции потерь"
   ]
  },
  {
   "cell_type": "code",
   "execution_count": 133,
   "metadata": {
    "colab": {
     "base_uri": "https://localhost:8080/",
     "height": 747
    },
    "id": "NvB4U5OXhE3t",
    "outputId": "6248bafc-51df-44a5-fc44-5c47efd21817"
   },
   "outputs": [
    {
     "data": {
      "text/plain": [
       "Text(0, 0.5, 'Loss function')"
      ]
     },
     "execution_count": 133,
     "metadata": {},
     "output_type": "execute_result"
    },
    {
     "data": {
      "image/png": "[encoded data removed]",
      "text/plain": [
       "<Figure size 1008x864 with 1 Axes>"
      ]
     },
     "metadata": {
      "needs_background": "light"
     },
     "output_type": "display_data"
    }
   ],
   "source": [
    "plt.figure(figsize=(14, 12))\n",
    "plt.plot(losses)\n",
    "plt.grid()\n",
    "plt.title('Training process')\n",
    "plt.xlabel('Iterations')\n",
    "plt.ylabel('Loss function')"
   ]
  },
  {
   "cell_type": "markdown",
   "metadata": {
    "id": "IfpCVrN2tO5S"
   },
   "source": [
    "## Математика \n",
    "\n",
    "\n",
    "![alt text](https://sun9-39.userapi.com/c850608/v850608777/47a4/fgZlI898IUU.jpg)\n",
    "![alt text](https://sun9-41.userapi.com/c858216/v858216777/cc4f5/v3CPa-tnm80.jpg)\n",
    "![alt text](https://sun9-67.userapi.com/c857632/v857632471/f6e95/H0dsmWsUInc.jpg)\n",
    "![alt text](https://sun9-71.userapi.com/c858120/v858120274/10d0ef/hdKO-3Syk3g.jpg)\n",
    "\n"
   ]
  },
  {
   "cell_type": "markdown",
   "metadata": {
    "id": "ToNAC3-bN_IN"
   },
   "source": [
    "А теперь ваша очередь, нужно написать двуслоный персептрон, согласно коду и выкладкам выше"
   ]
  },
  {
   "cell_type": "code",
   "execution_count": 171,
   "metadata": {
    "id": "yJSR8hdTN_IO",
    "outputId": "a929058d-7946-40e3-e9d7-f9bad80b1de3"
   },
   "outputs": [
    {
     "name": "stdout",
     "output_type": "stream",
     "text": [
      "Epoch: 1\n",
      "Epoch: 2\n",
      "Epoch: 3\n",
      "Epoch: 4\n",
      "Epoch: 5\n"
     ]
    }
   ],
   "source": [
    "### КОД СЮДА ###\n",
    "\n",
    "learning_rate = 0.01\n",
    "epochs = 5\n",
    "\n",
    "batch_size = 128\n",
    "n_feat = 784\n",
    "\n",
    "w1 = np.random.rand(n_feat, 300) * 0.01 # 300 — INNER_FEATURES\n",
    "b1 = np.zeros(300)\n",
    "w2 = np.random.rand(300, 1) * 0.01\n",
    "b2 = np.zeros(1)\n",
    "\n",
    "losses = []\n",
    "\n",
    "for n_epoch in range(epochs):\n",
    "    \n",
    "    print(f'Epoch: {n_epoch + 1}')\n",
    "    \n",
    "    for x, y in train_loader:\n",
    "        \n",
    "        x = x.view(x.shape[0], -1).numpy()\n",
    "        y = np.expand_dims(y.numpy(), 1)\n",
    "        \n",
    "        ### КОД СЮДА ###\n",
    "        \n",
    "        # forward\n",
    "        z1 = x.dot(w1) + b1\n",
    "        a1 = 1/(1+np.exp(-z1))\n",
    "        z2 = a1.dot(w2) + b2\n",
    "        pred = 1/(1+np.exp(-z2))\n",
    "        \n",
    "        # рассчет bce\n",
    "        loss = (-np.sum(np.multiply(np.log(pred), y) + np.multiply((1 - y), np.log(1 - pred)))) / batch_size\n",
    "        losses.append(loss)\n",
    "        \n",
    "        # backward\n",
    "        d_BCE_d_pred = ((1 - y) /(1- pred) - y/pred) / batch_size # градиент функции потерь по pred\n",
    "        d_pred_dz2 = pred * (1 - pred) # градиент сигмоиды по z2\n",
    "        dz2_da1 = w2 # градиент линейного преобразования по a1\n",
    "        dz2_dw2 = a1 # градиент линейного преобразования по w2\n",
    "        dz2_db2 = np.ones(128) # градиент линейного преобразования по b2\n",
    "        da1_dz1 = a1 * (1 - a1) # градиент нелинейной функции по z1\n",
    "        dz1_dw1 = x # градиент линейного преобразования по w1\n",
    "        dz1_db1 = np.ones(128) # градиент линейного преобразования по b1\n",
    "        \n",
    "        d_loss_dw2 = dz2_dw2.T.dot((d_pred_dz2 * d_BCE_d_pred)) # (INNER_FEATURES, 1)\n",
    "        d_loss_db2 = dz2_db2.dot((d_pred_dz2 * d_BCE_d_pred)) # (1,)\n",
    "        d_loss_dw1 = dz1_dw1.T.dot((dz2_da1.T * da1_dz1)*(d_pred_dz2 * d_BCE_d_pred)) # (IN_FEATURES, INNER_FEATURES)\n",
    "        d_loss_db1 = dz1_db1.dot(np.squeeze((dz2_da1.T * da1_dz1)*(d_pred_dz2 * d_BCE_d_pred))) # (INNER_FEATURES,)\n",
    "        \n",
    "        # gradient descent\n",
    "        w2 -= learning_rate * d_loss_dw2 \n",
    "        b2 -= learning_rate * d_loss_db2\n",
    "        w1 -= learning_rate * d_loss_dw1\n",
    "        b1 -= learning_rate * d_loss_db1"
   ]
  },
  {
   "cell_type": "markdown",
   "metadata": {
    "id": "ur7SqyVGN_IY"
   },
   "source": [
    "## Подсказки по размерностям\n",
    "\n",
    "### Forward\n",
    "\n",
    "- z1 - первое линейное преобразование - (BATCH_SIZE, INNER_FEATURES)\n",
    "- a1 - Применение нелинейности - (BATCH_SIZE, INNER_FEATURES)\n",
    "- z2 - второе нелинейное преобразование - (BATCH_SIZE, 1)\n",
    "- pred or A2- сигмоида - (BATCH_SIZE, 1)\n",
    "- loss - функция потерь - скаляр\n",
    "\n",
    "### Backward\n",
    "\n",
    "- d_BCE/d_pred - градиент функции потерь по pred - (BATCH_SIZE, 1)\n",
    "- d_pred/dz2 - градиент сигмоиды по z2 - (BATCH_SIZE, 1)\n",
    "- dz2/da1 - градиент линейного преобразования по a1 - (BATCH_SIZE, INNER_FEATURES)\n",
    "- dz2/dw2 - градиент линейного преобразования по w2 - (INNER_FEATURES, 1)\n",
    "- dz2/db2 - градиент линейного преобразования по b2 - (1,)\n",
    "- da1/dz1 - градиент нелинейной функции по z1 - (BATCH_SIZE, INNER_FEATURES)\n",
    "- dz1/dw1 - градиент линейного преобразования по w1 - (IN_FEATURES, INNER_FEATURES)\n",
    "- dz1/db1 - градиент линейного преобразования по b1 - (INNER_FEATURES,)"
   ]
  },
  {
   "cell_type": "markdown",
   "metadata": {
    "id": "ihOoASMAN_Ia"
   },
   "source": [
    "и график нарисуйте"
   ]
  },
  {
   "cell_type": "code",
   "execution_count": 172,
   "metadata": {
    "id": "CwRzXKRNN_Ic",
    "outputId": "a0cf5951-b66f-431d-9482-d258760039e1"
   },
   "outputs": [
    {
     "data": {
      "image/png": "[encoded data removed]",
      "text/plain": [
       "<Figure size 1008x864 with 1 Axes>"
      ]
     },
     "metadata": {
      "needs_background": "light"
     },
     "output_type": "display_data"
    }
   ],
   "source": [
    "plt.figure(figsize=(14, 12))\n",
    "plt.plot(losses)\n",
    "plt.grid()\n",
    "plt.title('Training process')\n",
    "plt.xlabel('Iterations')\n",
    "plt.ylabel('Loss function');"
   ]
  },
  {
   "cell_type": "markdown",
   "metadata": {
    "id": "axU2DnJ1IT1J"
   },
   "source": [
    "# Тестирование"
   ]
  },
  {
   "cell_type": "markdown",
   "metadata": {
    "id": "4sd8o1ZbIEXH"
   },
   "source": [
    "А как это тестировать? Да, очень просто нужно просто выполнять форвард без бэкворда, то есть последовательно применять преобразования с обученными весами"
   ]
  },
  {
   "cell_type": "code",
   "execution_count": 141,
   "metadata": {
    "id": "7DKeGWwzIliO"
   },
   "outputs": [],
   "source": [
    "losses_test = []\n",
    "predicted = []\n",
    "true_lbls = []\n",
    "\n",
    "for x, y in test_loader:\n",
    "\n",
    "    x = x.view(x.shape[0], -1).numpy()\n",
    "    y = np.expand_dims(y.numpy(), 1)\n",
    "\n",
    "    h1 = x.dot(w1) + b1 #переход в одномерное пространство\n",
    "    p = 1/(1+np.exp(-h1)) #преобразование в \"вероятности\"\n",
    "\n",
    "    bce = (-np.sum(np.multiply(np.log(p), y) + np.multiply((1 - y), np.log(1 - p)))) / batch_size \n",
    "    #расчет энтропии с усреднением по размеру бача\n",
    "\n",
    "    losses_test.append(bce)\n",
    "    predicted.extend(p)\n",
    "    true_lbls.extend(y) "
   ]
  },
  {
   "cell_type": "markdown",
   "metadata": {
    "id": "259SOuP5K2HR"
   },
   "source": [
    "Проверим, что для каждого семплау нас есть предсказание"
   ]
  },
  {
   "cell_type": "code",
   "execution_count": 142,
   "metadata": {
    "colab": {
     "base_uri": "https://localhost:8080/",
     "height": 34
    },
    "id": "J3NQGFxfJY-4",
    "outputId": "2f71ca0f-f296-481d-b076-1b80a4385b4e"
   },
   "outputs": [
    {
     "name": "stdout",
     "output_type": "stream",
     "text": [
      "1920 1920\n"
     ]
    }
   ],
   "source": [
    "print(len(predicted), len(true_lbls))"
   ]
  },
  {
   "cell_type": "markdown",
   "metadata": {
    "id": "xWJ3fjLhK9z4"
   },
   "source": [
    "Теперь применим стандартную Ф меру и оценим нашу модель"
   ]
  },
  {
   "cell_type": "code",
   "execution_count": 143,
   "metadata": {
    "colab": {
     "base_uri": "https://localhost:8080/",
     "height": 34
    },
    "id": "BbD-n9rVJlBe",
    "outputId": "1f3fb485-9ec7-42f6-aba8-6e390cef1b60"
   },
   "outputs": [
    {
     "name": "stdout",
     "output_type": "stream",
     "text": [
      "F1 score is equal to: 0.19\n"
     ]
    }
   ],
   "source": [
    "from sklearn.metrics import f1_score\n",
    "pred = np.array([round(i[0]) for i in predicted]) \n",
    "# У нас были вероятности а нужны классы поэтому просто округлим каждое значени и получим лейблы \n",
    "t_lbls = np.array(true_lbls).squeeze() #снимем лишнюю размерность\n",
    "f1 = f1_score(pred, t_lbls, average='weighted')\n",
    "print('F1 score is equal to: {0:0.02f}'.format(f1))"
   ]
  },
  {
   "cell_type": "markdown",
   "metadata": {
    "id": "vMxfUk9DLfNx"
   },
   "source": [
    "Сделайте тоже самое для своей модели..."
   ]
  },
  {
   "cell_type": "code",
   "execution_count": 173,
   "metadata": {
    "id": "plkig1rcLmG_"
   },
   "outputs": [],
   "source": [
    "losses_test = []\n",
    "predicted = []\n",
    "true_lbls = []\n",
    "\n",
    "for x, y in test_loader:\n",
    "\n",
    "    x = x.view(x.shape[0], -1).numpy()\n",
    "    y = np.expand_dims(y.numpy(), 1)\n",
    "\n",
    "    z1 = x.dot(w1) + b1\n",
    "    a1 = 1/(1+np.exp(-z1))\n",
    "    z2 = a1.dot(w2) + b2\n",
    "    pred = 1/(1+np.exp(-z2))\n",
    "\n",
    "    bce = (-np.sum(np.multiply(np.log(pred), y) + np.multiply((1 - y), np.log(1 - pred)))) / batch_size \n",
    "    #расчет энтропии с усреднением по размеру бача\n",
    "\n",
    "    losses_test.append(bce)\n",
    "    predicted.extend(pred)\n",
    "    true_lbls.extend(y)"
   ]
  },
  {
   "cell_type": "code",
   "execution_count": 174,
   "metadata": {},
   "outputs": [
    {
     "name": "stdout",
     "output_type": "stream",
     "text": [
      "1920 1920\n"
     ]
    }
   ],
   "source": [
    "print(len(predicted), len(true_lbls))"
   ]
  },
  {
   "cell_type": "code",
   "execution_count": 175,
   "metadata": {},
   "outputs": [
    {
     "name": "stdout",
     "output_type": "stream",
     "text": [
      "F1 score is equal to: 0.97\n"
     ]
    }
   ],
   "source": [
    "from sklearn.metrics import f1_score\n",
    "pred = np.array([round(i[0]) for i in predicted]) \n",
    "# У нас были вероятности а нужны классы поэтому просто округлим каждое значени и получим лейблы \n",
    "t_lbls = np.array(true_lbls).squeeze() #снимем лишнюю размерность\n",
    "f1 = f1_score(pred, t_lbls, average='weighted')\n",
    "print('F1 score is equal to: {0:0.02f}'.format(f1))"
   ]
  },
  {
   "cell_type": "markdown",
   "metadata": {
    "id": "zHg6S-QgN_Mm"
   },
   "source": [
    "# Немного торча"
   ]
  },
  {
   "cell_type": "code",
   "execution_count": null,
   "metadata": {
    "id": "rWON-EQvN_Mn"
   },
   "outputs": [],
   "source": [
    "import torch"
   ]
  },
  {
   "cell_type": "markdown",
   "metadata": {
    "id": "MYyJMcmQN_Mq"
   },
   "source": [
    "### Мы можем определить нашу модель как последовательность уже существующих слоев, как в керасе"
   ]
  },
  {
   "cell_type": "code",
   "execution_count": null,
   "metadata": {
    "colab": {
     "base_uri": "https://localhost:8080/"
    },
    "id": "7WkLbwyAN_Mr",
    "outputId": "701a7938-6d56-4870-e967-99302c50b4f5"
   },
   "outputs": [
    {
     "data": {
      "text/plain": [
       "Sequential(\n",
       "  (linear_1): Linear(in_features=784, out_features=256, bias=True)\n",
       "  (relu): ReLU()\n",
       "  (linear_2): Linear(in_features=256, out_features=1, bias=True)\n",
       "  (sigmoid): Sigmoid()\n",
       ")"
      ]
     },
     "execution_count": 5,
     "metadata": {
      "tags": []
     },
     "output_type": "execute_result"
    }
   ],
   "source": [
    "model = torch.nn.Sequential()\n",
    "\n",
    "model.add_module(name='linear_1', module=torch.nn.Linear(in_features=784, out_features=256))\n",
    "model.add_module(name='relu', module=torch.nn.ReLU())\n",
    "model.add_module(name='linear_2', module=torch.nn.Linear(in_features=256, out_features=1))\n",
    "model.add_module(name='sigmoid', module=torch.nn.Sigmoid())\n",
    "\n",
    "model"
   ]
  },
  {
   "cell_type": "markdown",
   "metadata": {
    "id": "xFnSynhmN_Mw"
   },
   "source": [
    "### Либо так"
   ]
  },
  {
   "cell_type": "code",
   "execution_count": null,
   "metadata": {
    "colab": {
     "base_uri": "https://localhost:8080/"
    },
    "id": "NjBXbnSNN_Mx",
    "outputId": "8fc4430a-67b3-410d-b201-2a076d03c67a"
   },
   "outputs": [
    {
     "data": {
      "text/plain": [
       "Sequential(\n",
       "  (0): Linear(in_features=784, out_features=256, bias=True)\n",
       "  (1): ReLU()\n",
       "  (2): Linear(in_features=256, out_features=1, bias=True)\n",
       "  (3): Sigmoid()\n",
       ")"
      ]
     },
     "execution_count": 6,
     "metadata": {
      "tags": []
     },
     "output_type": "execute_result"
    }
   ],
   "source": [
    "model = torch.nn.Sequential(\n",
    "    torch.nn.Linear(in_features=784, out_features=256),\n",
    "    torch.nn.ReLU(),\n",
    "    torch.nn.Linear(in_features=256, out_features=1),\n",
    "    torch.nn.Sigmoid()\n",
    ")\n",
    "\n",
    "model"
   ]
  },
  {
   "cell_type": "markdown",
   "metadata": {
    "id": "MKOnBBifN_M1"
   },
   "source": [
    "## А вот для чего нужно было писать в домашке классы\n",
    "## Для определения своих моделей/слоев/чего вам захочется нам нужно сделать такую структуру"
   ]
  },
  {
   "cell_type": "code",
   "execution_count": null,
   "metadata": {
    "id": "iNXM6WnUN_M9"
   },
   "outputs": [],
   "source": [
    "# наследуемся от класса torch.nn.Module\n",
    "class MLP(torch.nn.Module):\n",
    "    \n",
    "    # определяем метод __init__\n",
    "    # он нужен для того, чтобы мы могли определить нужные нам слои, веса, сохраняемые операции\n",
    "    # \n",
    "    # передаем ссылку на самого себя первым параметром\n",
    "    # \n",
    "    # определяем любые другие передаваемые аргументы\n",
    "    # могут быть чем угодно: числа, словари, другие слои, другие модели и вообще все что угодно\n",
    "    # \n",
    "    def __init__(self, in_features, inner_features, out_features):\n",
    "        \n",
    "        # Главная задача этого метода - возможность использования в классе потомке, методов класса-родителя\n",
    "        # Вызываем __init__ родителя - torch.nn.Module\n",
    "        super().__init__()\n",
    "        \n",
    "        # определяем слои и все что захотим сохранять/использовать\n",
    "        self.linear_1 = torch.nn.Linear(in_features=in_features, out_features=inner_features)\n",
    "        self.non_linear_function = torch.nn.ReLU()\n",
    "        self.linear_2 = torch.nn.Linear(in_features=inner_features, out_features=out_features)\n",
    "        self.sigmoid = torch.nn.Sigmoid()\n",
    "        \n",
    "    # нам нужно обязательно реализовать метод forward\n",
    "    # это то, что нашей модели нужно делать, как оперировать с входными данными, как рассчитывать\n",
    "    # метод backward нам не нужно реализовывать, потому что в торче есть автоматическое дифференцирование\n",
    "    # главное, чтобы наши операции были дифференцируемы\n",
    "    # некоторые подробности можете узнать здесь:\n",
    "    # https://pytorch.org/tutorials/beginner/blitz/autograd_tutorial.html#sphx-glr-beginner-blitz-autograd-tutorial-py\n",
    "    # также список доступных дифференцируемых операций можете посмотреть здесь:\n",
    "    # https://pytorch.org/docs/stable/tensors.html\n",
    "    def forward(self, x):\n",
    "        \n",
    "        # наша привычная схема\n",
    "        x = self.linear_1(x)\n",
    "        x = self.non_linear_function(x)\n",
    "        x = self.linear_2(x)\n",
    "        x = self.sigmoid(x)\n",
    "        \n",
    "        return x\n",
    "    \n",
    "    # мы также можем реализовать любые другие полезные нам методы внутри класса"
   ]
  },
  {
   "cell_type": "code",
   "execution_count": null,
   "metadata": {
    "id": "Ftetvx8MN_NA"
   },
   "outputs": [],
   "source": [
    "# определяем нашу модель\n",
    "model = MLP(in_features=784, inner_features=256, out_features=1)"
   ]
  },
  {
   "cell_type": "code",
   "execution_count": null,
   "metadata": {
    "colab": {
     "base_uri": "https://localhost:8080/"
    },
    "id": "G3zivrXiN_ND",
    "outputId": "c9cc05c0-44ca-4bd6-d7bd-2207123cf41b",
    "scrolled": true
   },
   "outputs": [
    {
     "data": {
      "text/plain": [
       "MLP(\n",
       "  (linear_1): Linear(in_features=784, out_features=256, bias=True)\n",
       "  (non_linear_function): ReLU()\n",
       "  (linear_2): Linear(in_features=256, out_features=1, bias=True)\n",
       "  (sigmoid): Sigmoid()\n",
       ")"
      ]
     },
     "execution_count": 9,
     "metadata": {
      "tags": []
     },
     "output_type": "execute_result"
    }
   ],
   "source": [
    "model"
   ]
  },
  {
   "cell_type": "code",
   "execution_count": null,
   "metadata": {
    "colab": {
     "base_uri": "https://localhost:8080/"
    },
    "id": "pa4BG_t_N_NG",
    "outputId": "ac7dbe4a-e253-4ba5-f5ee-8da36cd5b715"
   },
   "outputs": [
    {
     "data": {
      "text/plain": [
       "torch.Size([256, 784])"
      ]
     },
     "execution_count": 10,
     "metadata": {
      "tags": []
     },
     "output_type": "execute_result"
    }
   ],
   "source": [
    "# можем посмотреть веса\n",
    "model.linear_1.weight.shape"
   ]
  },
  {
   "cell_type": "code",
   "execution_count": null,
   "metadata": {
    "id": "n2hPqcyxN_NQ"
   },
   "outputs": [],
   "source": [
    "# еще нам нужно задать функцию потерь \n",
    "criterion = torch.nn.BCELoss()"
   ]
  },
  {
   "cell_type": "code",
   "execution_count": null,
   "metadata": {
    "id": "IEpYutCqN_Na"
   },
   "outputs": [],
   "source": [
    "# и оптимизатор, куда нужно передать параметры модели\n",
    "# параметры модели можно взять методом класса .parameters()\n",
    "optimizer = torch.optim.SGD(params=model.parameters(), lr=0.01)"
   ]
  },
  {
   "cell_type": "code",
   "execution_count": null,
   "metadata": {
    "colab": {
     "base_uri": "https://localhost:8080/"
    },
    "id": "V-ssB6KsN_Nf",
    "outputId": "2538defa-f558-49d4-8103-e415be2c4d62"
   },
   "outputs": [
    {
     "data": {
      "text/plain": [
       "[Parameter containing:\n",
       " tensor([[-0.0344,  0.0013, -0.0302,  ...,  0.0275, -0.0177,  0.0303],\n",
       "         [ 0.0188, -0.0292,  0.0125,  ..., -0.0083, -0.0229,  0.0226],\n",
       "         [ 0.0243,  0.0246,  0.0123,  ..., -0.0236,  0.0147, -0.0009],\n",
       "         ...,\n",
       "         [-0.0163, -0.0170, -0.0152,  ..., -0.0283, -0.0272, -0.0058],\n",
       "         [-0.0019, -0.0049,  0.0150,  ...,  0.0092, -0.0267,  0.0300],\n",
       "         [-0.0222, -0.0139,  0.0226,  ..., -0.0154,  0.0172,  0.0181]],\n",
       "        requires_grad=True), Parameter containing:\n",
       " tensor([-1.7827e-02, -3.2232e-02, -5.5124e-03, -6.3992e-03,  2.7237e-02,\n",
       "          2.1944e-02, -1.9344e-02, -3.1921e-02,  3.3770e-02,  2.2343e-02,\n",
       "          2.6235e-02, -1.8915e-02, -1.1174e-02,  1.5170e-02, -6.0126e-03,\n",
       "         -1.3958e-02,  2.7042e-03, -2.0327e-02, -1.1968e-03, -3.0333e-02,\n",
       "          3.1993e-03,  2.5337e-02,  1.4107e-02,  1.2331e-03,  8.5212e-03,\n",
       "          3.0628e-02,  1.2734e-03, -3.2476e-02, -2.3571e-02, -2.2985e-02,\n",
       "          3.3320e-02, -2.0895e-02, -3.1631e-02,  1.0074e-02,  2.0658e-02,\n",
       "         -1.7429e-02, -3.1851e-02,  2.8459e-02, -3.0196e-02, -2.2902e-02,\n",
       "         -5.6104e-03,  6.8854e-03, -1.3875e-02,  8.9248e-03,  3.4605e-02,\n",
       "         -1.9646e-02,  1.8324e-02,  1.3545e-02,  9.3568e-03,  3.3520e-02,\n",
       "         -3.5499e-02, -2.3491e-02,  2.8394e-02, -2.0521e-02, -8.2375e-03,\n",
       "         -1.2652e-02, -3.2454e-02, -1.4559e-02, -2.4928e-02, -2.1261e-02,\n",
       "         -5.7245e-03,  2.8558e-02,  7.2895e-03, -2.6085e-02, -2.1998e-02,\n",
       "          9.0551e-03,  1.2007e-02,  3.0740e-02, -1.0442e-03, -4.6060e-03,\n",
       "          2.7825e-02, -3.3006e-02, -1.4617e-02,  2.8287e-02, -2.0474e-02,\n",
       "         -9.0357e-03, -3.1688e-02, -2.3102e-02,  3.2828e-02,  8.3832e-03,\n",
       "          2.7731e-02, -6.6248e-04, -1.3174e-02,  1.0901e-02,  1.0206e-02,\n",
       "          9.0063e-03, -2.7648e-02, -2.6460e-02,  3.0595e-02,  3.3663e-02,\n",
       "         -2.3425e-02,  1.8254e-02,  2.4950e-02,  9.2187e-03, -2.0350e-02,\n",
       "          2.5870e-02, -3.5623e-03, -2.8340e-02, -3.1971e-02, -3.2242e-03,\n",
       "          2.1870e-02,  4.0297e-03, -3.0996e-02, -2.8081e-02,  2.2076e-02,\n",
       "         -1.4218e-02, -9.8226e-03,  2.2895e-02, -4.7970e-03,  4.2636e-03,\n",
       "          1.4938e-02, -2.5221e-02,  4.3288e-03, -3.5605e-02, -1.5557e-02,\n",
       "          1.7147e-02, -1.5037e-04, -1.4424e-02, -1.7561e-02, -1.0508e-02,\n",
       "         -1.2710e-02, -3.1618e-02,  2.7608e-02,  3.5136e-02,  2.3084e-02,\n",
       "         -2.1255e-02,  1.7329e-02, -7.1952e-03,  3.0828e-02,  4.8711e-03,\n",
       "         -3.3656e-02, -2.7273e-02,  8.2366e-03,  4.5413e-03,  7.4387e-03,\n",
       "         -2.9426e-02,  3.5877e-03,  2.5758e-02, -1.6930e-02,  5.6457e-03,\n",
       "         -2.0345e-02,  9.0046e-03, -1.6370e-02,  3.3674e-02,  3.8766e-03,\n",
       "         -3.2030e-02, -2.0484e-02, -2.0916e-02, -3.4259e-02, -2.5564e-02,\n",
       "          1.4599e-02, -6.1034e-03,  3.4804e-02, -1.7095e-02, -5.8579e-03,\n",
       "         -1.3202e-02,  2.1076e-02, -3.2053e-02, -2.3993e-02,  1.7283e-02,\n",
       "         -1.8902e-03,  2.6385e-04, -3.5536e-02,  7.3989e-04, -3.6665e-03,\n",
       "          1.0410e-03,  2.3892e-02, -1.2903e-02,  2.2573e-02, -3.8709e-03,\n",
       "         -2.7167e-02,  1.2626e-02,  2.6331e-02, -3.4623e-03, -1.3884e-02,\n",
       "          9.3117e-04, -3.4806e-02, -3.2475e-02, -2.4229e-02,  9.5138e-03,\n",
       "          3.4651e-02, -1.0544e-02, -8.4714e-03, -2.2667e-02, -1.1121e-02,\n",
       "          1.3589e-02,  2.4537e-02,  2.5845e-02, -1.8690e-03,  1.6815e-02,\n",
       "          5.0242e-03,  1.1825e-02,  6.4497e-03,  2.8198e-02, -8.1922e-03,\n",
       "         -3.5247e-02,  2.1565e-02,  1.8027e-03, -2.9681e-02,  2.3335e-02,\n",
       "         -8.9390e-04, -1.9069e-02,  3.6072e-03,  2.0280e-02,  8.0367e-03,\n",
       "         -2.5559e-02, -1.8656e-02,  3.0774e-02, -2.3197e-02, -4.2698e-03,\n",
       "         -2.2544e-02,  2.0061e-02,  1.5856e-02, -3.0571e-02, -3.5183e-02,\n",
       "         -2.8410e-02, -2.5960e-02, -2.2126e-02,  9.0855e-05, -2.3316e-02,\n",
       "          1.5319e-02,  3.4685e-02, -4.8479e-03,  2.7226e-02,  1.0292e-02,\n",
       "          2.5683e-02, -1.7620e-02,  2.7522e-02,  1.9873e-02, -1.9940e-03,\n",
       "         -3.2553e-02,  1.6932e-02, -3.0253e-02, -4.9917e-03,  1.5029e-02,\n",
       "         -2.3597e-02, -2.5119e-02,  1.4665e-02,  5.4666e-03, -1.3163e-02,\n",
       "          2.6707e-03, -2.0967e-02,  2.1243e-02,  1.6016e-02, -3.2688e-02,\n",
       "         -2.1971e-02, -2.8557e-03,  1.9163e-02,  2.3776e-02, -1.6585e-03,\n",
       "         -1.9155e-02, -3.4643e-02,  1.7455e-02, -3.3592e-02,  4.9029e-03,\n",
       "         -4.9049e-03], requires_grad=True), Parameter containing:\n",
       " tensor([[ 1.1359e-02,  2.3799e-02,  4.4366e-02,  3.4985e-02,  2.2653e-02,\n",
       "          -1.4000e-05,  5.6512e-02,  3.8168e-02, -4.8885e-02, -1.3306e-02,\n",
       "          -2.4609e-02,  4.5807e-02,  4.4875e-02, -4.9049e-02,  4.7872e-02,\n",
       "          -5.3317e-02,  2.2363e-02, -5.9791e-02,  4.4422e-02,  3.4590e-02,\n",
       "          -1.7703e-02, -4.7981e-03,  2.2902e-02,  4.0738e-02,  3.9785e-04,\n",
       "           1.5924e-02,  2.5996e-02,  1.4593e-02, -2.3784e-02,  3.2060e-02,\n",
       "           1.7954e-02, -6.1567e-02, -3.5286e-02,  6.1385e-02,  6.0811e-02,\n",
       "           3.0205e-02,  1.7685e-02, -3.1722e-02,  3.8395e-02,  5.7672e-02,\n",
       "          -5.8959e-02, -2.1891e-02,  3.5869e-02,  3.2839e-02,  5.5180e-02,\n",
       "           1.2186e-02,  5.1203e-02,  4.3796e-02,  2.8177e-02, -1.5841e-02,\n",
       "          -4.0477e-02, -3.5669e-02, -1.2406e-02, -5.5037e-03, -1.8588e-02,\n",
       "          -4.7470e-02,  5.0652e-02, -2.8410e-02, -4.3910e-02,  1.2406e-02,\n",
       "          -2.6175e-02, -1.3797e-02, -3.0275e-02, -6.5967e-03, -6.2022e-02,\n",
       "           3.6485e-02, -2.5378e-02,  4.2233e-02,  1.8112e-02,  2.2177e-02,\n",
       "          -1.7606e-03,  3.5131e-02,  2.3643e-02, -5.3573e-02, -3.7069e-02,\n",
       "           1.2647e-02, -6.1123e-02,  1.5892e-02,  5.5239e-02, -4.4749e-02,\n",
       "           7.0653e-03,  2.2901e-03,  5.0476e-03,  4.2942e-02, -2.8096e-02,\n",
       "          -4.1314e-02,  3.7429e-02,  4.6399e-03,  2.6962e-02,  6.1216e-02,\n",
       "          -5.0789e-02,  4.6998e-02, -1.5532e-04, -5.0352e-02, -4.0671e-02,\n",
       "          -4.2504e-02,  9.3594e-03, -4.1850e-02, -3.8902e-02,  5.4799e-02,\n",
       "           4.8426e-02, -2.8539e-02, -1.8942e-02,  6.6897e-03, -3.7713e-02,\n",
       "          -7.1499e-03,  4.1309e-03, -4.0092e-02, -4.5124e-02,  2.7247e-02,\n",
       "          -2.6317e-02,  5.5214e-02, -2.4955e-02,  3.8906e-03, -3.9268e-02,\n",
       "          -1.4464e-02,  1.0148e-02, -3.4658e-02,  5.5073e-02,  3.3718e-02,\n",
       "          -6.9650e-03,  3.9146e-03,  2.0750e-02,  7.6113e-03, -5.0282e-02,\n",
       "          -4.5098e-02,  6.0312e-03, -2.5663e-02, -5.6587e-02, -1.9675e-03,\n",
       "          -3.8361e-02, -1.1187e-02,  5.4732e-03, -4.8932e-02, -1.6209e-02,\n",
       "           3.2880e-02, -5.0414e-02, -5.7029e-02, -3.5568e-02,  4.0317e-02,\n",
       "          -5.3537e-02,  2.5993e-02,  1.1557e-02, -3.3034e-02, -8.1467e-03,\n",
       "           3.4418e-02, -2.1103e-02, -5.0509e-02, -4.6137e-02, -6.9261e-03,\n",
       "           2.9460e-03,  4.5439e-02,  5.8531e-02, -3.7517e-02,  5.8480e-02,\n",
       "          -3.6613e-02,  8.6116e-03, -3.5816e-02,  4.0245e-02,  1.9845e-02,\n",
       "           4.3717e-02,  2.4696e-03,  1.9742e-03,  9.8063e-03, -2.6696e-02,\n",
       "          -3.2847e-02,  4.9903e-02, -1.2867e-02,  3.9686e-04,  4.5001e-02,\n",
       "           3.1910e-02, -3.4525e-02,  4.2870e-03, -5.9805e-02,  3.0897e-03,\n",
       "           1.4596e-02,  8.5562e-03, -1.5932e-03, -5.8199e-02, -1.5811e-02,\n",
       "          -4.1833e-02, -4.1415e-02, -2.3536e-02, -5.3235e-02,  1.9667e-02,\n",
       "          -1.6431e-02, -5.6662e-02,  5.6779e-02, -5.2861e-02, -5.5634e-02,\n",
       "           5.6088e-02,  1.4554e-02, -2.5333e-02, -8.0605e-04,  5.4367e-02,\n",
       "           5.8766e-02,  4.5684e-02,  2.0241e-02,  4.3417e-02,  8.3015e-03,\n",
       "           6.0632e-02,  5.0138e-02, -3.2365e-02,  5.9570e-02, -1.2840e-02,\n",
       "           6.0740e-02,  3.1837e-02,  3.3194e-02, -4.1276e-03, -3.5609e-02,\n",
       "          -1.2266e-02, -1.4706e-02, -2.3671e-02,  2.2502e-02, -5.7685e-02,\n",
       "          -6.9231e-03,  4.8407e-02,  1.2314e-02,  5.4149e-02, -2.9388e-02,\n",
       "          -4.8970e-03, -1.2569e-02, -1.3703e-02, -4.6943e-02, -7.3323e-03,\n",
       "           4.8351e-02, -8.5037e-03, -1.3044e-02,  5.1122e-03,  5.2588e-02,\n",
       "           4.2646e-02,  4.3029e-02, -2.2053e-02,  5.7258e-03,  6.2117e-02,\n",
       "           5.7615e-02, -2.0612e-02,  4.9254e-02,  1.1555e-02,  2.7531e-02,\n",
       "           1.4573e-02, -3.6098e-02,  5.3262e-02,  4.7090e-02,  4.2314e-03,\n",
       "           2.0740e-02, -3.0843e-02,  5.9080e-02,  2.2334e-02, -5.4557e-02,\n",
       "           5.6360e-02, -8.2029e-03, -4.9093e-02, -5.3011e-02,  4.9514e-02,\n",
       "           1.9935e-02]], requires_grad=True), Parameter containing:\n",
       " tensor([-0.0068], requires_grad=True)]"
      ]
     },
     "execution_count": 13,
     "metadata": {
      "tags": []
     },
     "output_type": "execute_result"
    }
   ],
   "source": [
    "# можем посмотреть на параметры нашей модели\n",
    "params = list(model.parameters())\n",
    "params"
   ]
  },
  {
   "cell_type": "markdown",
   "metadata": {
    "id": "5dnDbvw0N_No"
   },
   "source": [
    "# Обучим нашу модель"
   ]
  },
  {
   "cell_type": "code",
   "execution_count": null,
   "metadata": {
    "colab": {
     "base_uri": "https://localhost:8080/",
     "height": 235
    },
    "id": "O8ayasdLN_Np",
    "outputId": "562e950a-927e-4dfa-971f-4248c56b5a9a"
   },
   "outputs": [
    {
     "ename": "NameError",
     "evalue": "ignored",
     "output_type": "error",
     "traceback": [
      "\u001b[0;31m---------------------------------------------------------------------------\u001b[0m",
      "\u001b[0;31mNameError\u001b[0m                                 Traceback (most recent call last)",
      "\u001b[0;32m<ipython-input-1-3a94f7916af3>\u001b[0m in \u001b[0;36m<module>\u001b[0;34m()\u001b[0m\n\u001b[1;32m      4\u001b[0m \u001b[0;31m# эта штука все еще отдает нам батчи данных\u001b[0m\u001b[0;34m\u001b[0m\u001b[0;34m\u001b[0m\u001b[0;34m\u001b[0m\u001b[0m\n\u001b[1;32m      5\u001b[0m \u001b[0;31m# мы поговорим про нее позже\u001b[0m\u001b[0;34m\u001b[0m\u001b[0;34m\u001b[0m\u001b[0;34m\u001b[0m\u001b[0m\n\u001b[0;32m----> 6\u001b[0;31m \u001b[0;32mfor\u001b[0m \u001b[0mx\u001b[0m\u001b[0;34m,\u001b[0m \u001b[0my\u001b[0m \u001b[0;32min\u001b[0m \u001b[0mtrain_loader\u001b[0m\u001b[0;34m:\u001b[0m\u001b[0;34m\u001b[0m\u001b[0;34m\u001b[0m\u001b[0m\n\u001b[0m\u001b[1;32m      7\u001b[0m \u001b[0;34m\u001b[0m\u001b[0m\n\u001b[1;32m      8\u001b[0m     \u001b[0mx\u001b[0m \u001b[0;34m=\u001b[0m \u001b[0mx\u001b[0m\u001b[0;34m.\u001b[0m\u001b[0mview\u001b[0m\u001b[0;34m(\u001b[0m\u001b[0mx\u001b[0m\u001b[0;34m.\u001b[0m\u001b[0mshape\u001b[0m\u001b[0;34m[\u001b[0m\u001b[0;36m0\u001b[0m\u001b[0;34m]\u001b[0m\u001b[0;34m,\u001b[0m \u001b[0;34m-\u001b[0m\u001b[0;36m1\u001b[0m\u001b[0;34m)\u001b[0m\u001b[0;34m\u001b[0m\u001b[0;34m\u001b[0m\u001b[0m\n",
      "\u001b[0;31mNameError\u001b[0m: name 'train_loader' is not defined"
     ]
    }
   ],
   "source": [
    "# давайте сохранять значения нашей функции потерь каждую итерацию обучения\n",
    "losses = []\n",
    "\n",
    "# эта штука все еще отдает нам батчи данных\n",
    "# мы поговорим про нее позже\n",
    "for x, y in train_loader:\n",
    "\n",
    "    x = x.view(x.shape[0], -1)\n",
    "    y = y.unsqueeze(1).float()\n",
    "    \n",
    "    # обновим наши градиенты\n",
    "    # будем делать это каждую итерацию обучения\n",
    "    # потому что торч сохраняет в себе все градиенты пока не удалите таким образом рассчитанные градиенты\n",
    "    # \n",
    "    # НЕОБЯЗАТЕЛЬНЫЕ ДЕТАЛИ\n",
    "    # функция сохранения градиентов нужна для аккамуляции градиентов\n",
    "    # например, когда нам не хватает памяти на большой батч\n",
    "    # мы можем несколько раз прогнать forward на разных батчах\n",
    "    # наши градиенты будут сохраняться\n",
    "    # и только потом обновить через несколько итераций forward обновить наши веса\n",
    "    # таким образом у нас получается больше батч\n",
    "    # \n",
    "    optimizer.zero_grad()\n",
    "    \n",
    "    # \n",
    "    # предсказание нашей модели\n",
    "    # здесь торч сам сохраняет необходимую информацию\n",
    "    # чтобы понять эту логику у нас как раз и была часть домашки про собственные классы\n",
    "    # \n",
    "    # торч строит динамический граф вычислений\n",
    "    # то есть строит граф по тем операциям, которые вы определили в методе forward\n",
    "    # \n",
    "    # то есть торч понимает, что вы сначала применили линейное преобразование\n",
    "    # знает, где лежат веса для этого линейного преобразования\n",
    "    # знает, что вы затем применили релу\n",
    "    # затем опять линейное преобразование\n",
    "    # затем сигмоиду\n",
    "    # и вот таким образом торч выстроил граф\n",
    "    # который нужен будет для backpropogation\n",
    "    # \n",
    "    pred = model(x)\n",
    "    \n",
    "    # \n",
    "    # рассчитываем функцию потерь, добавляя в наш граф вычислений этот узел\n",
    "    # \n",
    "    loss = criterion(pred, y.float())\n",
    "    \n",
    "    # \n",
    "    # вызываем метод backward() от нашей функции потерь (это крайний узел нашего графа вычислений)\n",
    "    # этот метод проходит от конца графа в начало, вычисляя необходимые градиенты\n",
    "    # передаем градиенты на следующие узлы\n",
    "    # для весов сохраняет\n",
    "    # \n",
    "    # то есть это почти то же самое, что мы делали в домашке с классами\n",
    "    # \n",
    "    loss.backward()\n",
    "    \n",
    "    # \n",
    "    # теперь мы знаем необходимые градиенты и можем обновить веса с помощью градиентного спуска\n",
    "    # \n",
    "    optimizer.step()\n",
    "    \n",
    "    # \n",
    "    # сохраним текущее значение функции потерь, чтобы потом могли посмотреть на график\n",
    "    # очень важный момент: нам нужно отсоединить значение нашей фунции потерь от графа вычислений\n",
    "    # чтобы граф не строился дальше на каждой итерации обучения\n",
    "    # так мы рано или поздно переполним память\n",
    "    # поэтому вызываем этот метод\n",
    "    # работает для скаляров\n",
    "    # \n",
    "    # для тензоров работает метод .tolist()\n",
    "    # \n",
    "    current_loss_value = loss.item()\n",
    "    losses.append(loss.item())"
   ]
  },
  {
   "cell_type": "code",
   "execution_count": null,
   "metadata": {
    "id": "KhopLN33N_Nw"
   },
   "outputs": [],
   "source": [
    "# Одна эпоха прошла"
   ]
  },
  {
   "cell_type": "code",
   "execution_count": null,
   "metadata": {
    "colab": {
     "base_uri": "https://localhost:8080/",
     "height": 235
    },
    "id": "SIGFnAeMN_Nz",
    "outputId": "e225e2b2-28dd-4ffa-d8b6-fd42ebca2e08"
   },
   "outputs": [
    {
     "ename": "NameError",
     "evalue": "ignored",
     "output_type": "error",
     "traceback": [
      "\u001b[0;31m---------------------------------------------------------------------------\u001b[0m",
      "\u001b[0;31mNameError\u001b[0m                                 Traceback (most recent call last)",
      "\u001b[0;32m<ipython-input-3-65e1a1129d3c>\u001b[0m in \u001b[0;36m<module>\u001b[0;34m()\u001b[0m\n\u001b[0;32m----> 1\u001b[0;31m \u001b[0mplt\u001b[0m\u001b[0;34m.\u001b[0m\u001b[0mfigure\u001b[0m\u001b[0;34m(\u001b[0m\u001b[0mfigsize\u001b[0m\u001b[0;34m=\u001b[0m\u001b[0;34m(\u001b[0m\u001b[0;36m14\u001b[0m\u001b[0;34m,\u001b[0m \u001b[0;36m12\u001b[0m\u001b[0;34m)\u001b[0m\u001b[0;34m)\u001b[0m\u001b[0;34m\u001b[0m\u001b[0;34m\u001b[0m\u001b[0m\n\u001b[0m\u001b[1;32m      2\u001b[0m \u001b[0mplt\u001b[0m\u001b[0;34m.\u001b[0m\u001b[0mplot\u001b[0m\u001b[0;34m(\u001b[0m\u001b[0mlosses\u001b[0m\u001b[0;34m)\u001b[0m\u001b[0;34m\u001b[0m\u001b[0;34m\u001b[0m\u001b[0m\n\u001b[1;32m      3\u001b[0m \u001b[0mplt\u001b[0m\u001b[0;34m.\u001b[0m\u001b[0mgrid\u001b[0m\u001b[0;34m(\u001b[0m\u001b[0;34m)\u001b[0m\u001b[0;34m\u001b[0m\u001b[0;34m\u001b[0m\u001b[0m\n\u001b[1;32m      4\u001b[0m \u001b[0mplt\u001b[0m\u001b[0;34m.\u001b[0m\u001b[0mtitle\u001b[0m\u001b[0;34m(\u001b[0m\u001b[0;34m'Training process'\u001b[0m\u001b[0;34m)\u001b[0m\u001b[0;34m\u001b[0m\u001b[0;34m\u001b[0m\u001b[0m\n\u001b[1;32m      5\u001b[0m \u001b[0mplt\u001b[0m\u001b[0;34m.\u001b[0m\u001b[0mxlabel\u001b[0m\u001b[0;34m(\u001b[0m\u001b[0;34m'Iterations'\u001b[0m\u001b[0;34m)\u001b[0m\u001b[0;34m\u001b[0m\u001b[0;34m\u001b[0m\u001b[0m\n",
      "\u001b[0;31mNameError\u001b[0m: name 'plt' is not defined"
     ]
    }
   ],
   "source": [
    "plt.figure(figsize=(14, 12))\n",
    "plt.plot(losses)\n",
    "plt.grid()\n",
    "plt.title('Training process')\n",
    "plt.xlabel('Iterations')\n",
    "plt.ylabel('Loss function');"
   ]
  },
  {
   "cell_type": "markdown",
   "metadata": {
    "id": "8oBFJlYrN_N3"
   },
   "source": [
    "# Теперь мы можем что-то предсказать"
   ]
  },
  {
   "cell_type": "code",
   "execution_count": null,
   "metadata": {
    "id": "pYQ-5cXnN_N4"
   },
   "outputs": [],
   "source": [
    "for x, y in test_loader:\n",
    "\n",
    "    x = x.view(x.shape[0], -1)\n",
    "    y = y.unsqueeze(1).float()\n",
    "    \n",
    "    # чтобы не ходить по всему тестовому датасету, прекратим ходить после первой итерации\n",
    "    break"
   ]
  },
  {
   "cell_type": "code",
   "execution_count": null,
   "metadata": {
    "id": "Rb3ImXPNN_N_",
    "outputId": "a9ea50e8-2230-4b85-b1e2-d75408597581"
   },
   "outputs": [
    {
     "data": {
      "text/plain": [
       "torch.Size([128, 784])"
      ]
     },
     "execution_count": 82,
     "metadata": {
      "tags": []
     },
     "output_type": "execute_result"
    }
   ],
   "source": [
    "x.shape"
   ]
  },
  {
   "cell_type": "code",
   "execution_count": null,
   "metadata": {
    "id": "5V_GO6_zN_OE",
    "outputId": "b12de3e1-6478-42b4-82a4-230411f251a6"
   },
   "outputs": [
    {
     "data": {
      "text/plain": [
       "torch.Size([128, 1])"
      ]
     },
     "execution_count": 83,
     "metadata": {
      "tags": []
     },
     "output_type": "execute_result"
    }
   ],
   "source": [
    "y.shape"
   ]
  },
  {
   "cell_type": "code",
   "execution_count": null,
   "metadata": {
    "id": "_zHM8GRpN_OG",
    "outputId": "1526be79-e75b-4b8f-c7e0-771c0e7960ba"
   },
   "outputs": [
    {
     "data": {
      "text/plain": [
       "MLP(\n",
       "  (linear_1): Linear(in_features=784, out_features=256, bias=True)\n",
       "  (non_linear_function): ReLU()\n",
       "  (linear_2): Linear(in_features=256, out_features=1, bias=True)\n",
       "  (sigmoid): Sigmoid()\n",
       ")"
      ]
     },
     "execution_count": 84,
     "metadata": {
      "tags": []
     },
     "output_type": "execute_result"
    }
   ],
   "source": [
    "# переходим в режим предсказания\n",
    "# \n",
    "# позже в курсе мы разберем зачем конкретно это нужно\n",
    "# \n",
    "# для искушенного нетерпеливого читателя: дропаут больше не дропаутит, батч норм больше не нормирует каждый батч\n",
    "# а использует накопленную статистику при обучении и тд\n",
    "# \n",
    "model.eval()"
   ]
  },
  {
   "cell_type": "code",
   "execution_count": null,
   "metadata": {
    "id": "CT4N0ZAPN_OI"
   },
   "outputs": [],
   "source": [
    "# этот контект позволяет не сохранять необходимую информацию для рассчета градиентов\n",
    "with torch.no_grad():\n",
    "\n",
    "    pred = model(x)"
   ]
  },
  {
   "cell_type": "code",
   "execution_count": null,
   "metadata": {
    "id": "R48ZI_iJN_OK",
    "outputId": "193d89f9-61e1-4a96-8445-7b47d57ff8d1"
   },
   "outputs": [
    {
     "data": {
      "text/plain": [
       "torch.Size([128, 1])"
      ]
     },
     "execution_count": 86,
     "metadata": {
      "tags": []
     },
     "output_type": "execute_result"
    }
   ],
   "source": [
    "pred.shape"
   ]
  },
  {
   "cell_type": "code",
   "execution_count": null,
   "metadata": {
    "id": "Azbcidg1N_OM"
   },
   "outputs": [],
   "source": [
    "# избавимся от единичной размерности\n",
    "pred = pred.squeeze()\n",
    "y = y.squeeze()"
   ]
  },
  {
   "cell_type": "code",
   "execution_count": null,
   "metadata": {
    "id": "L7zm8vzBN_OO",
    "outputId": "67f0fe47-50f7-44c8-9148-701fdec25e1f"
   },
   "outputs": [
    {
     "data": {
      "text/plain": [
       "torch.Size([128])"
      ]
     },
     "execution_count": 88,
     "metadata": {
      "tags": []
     },
     "output_type": "execute_result"
    }
   ],
   "source": [
    "pred.shape"
   ]
  },
  {
   "cell_type": "code",
   "execution_count": null,
   "metadata": {
    "id": "JBARJLDIN_OT"
   },
   "outputs": [],
   "source": [
    "# таким образом из торчовых тензоров мы можем сделать нумпаевские массивы\n",
    "pred = pred.numpy()\n",
    "y = y.numpy()"
   ]
  },
  {
   "cell_type": "code",
   "execution_count": null,
   "metadata": {
    "id": "8Y4gi0q7N_OZ",
    "outputId": "a170d0d4-c6a8-408e-c3bf-1148de786113"
   },
   "outputs": [
    {
     "data": {
      "text/plain": [
       "array([1., 1., 0., 1., 0., 0., 1., 1., 1., 0., 0., 1., 0., 1., 0., 1., 1.,\n",
       "       0., 1., 1., 1., 1., 0., 0., 0., 1., 1., 0., 1., 1., 1., 1., 1., 0.,\n",
       "       1., 0., 1., 0., 1., 0., 0., 0., 0., 0., 1., 1., 1., 0., 0., 1., 1.,\n",
       "       0., 1., 1., 1., 1., 0., 1., 1., 1., 0., 0., 0., 0., 1., 0., 0., 1.,\n",
       "       0., 0., 1., 0., 1., 0., 0., 1., 0., 0., 1., 1., 1., 1., 0., 1., 0.,\n",
       "       0., 0., 0., 0., 0., 1., 1., 0., 1., 0., 0., 0., 1., 0., 1., 0., 0.,\n",
       "       0., 0., 0., 1., 1., 1., 1., 0., 0., 0., 0., 0., 0., 1., 1., 0., 0.,\n",
       "       1., 0., 1., 1., 0., 1., 0., 0., 1.], dtype=float32)"
      ]
     },
     "execution_count": 90,
     "metadata": {
      "tags": []
     },
     "output_type": "execute_result"
    }
   ],
   "source": [
    "y"
   ]
  },
  {
   "cell_type": "code",
   "execution_count": null,
   "metadata": {
    "id": "QPlZdMfiN_Og",
    "outputId": "3673c2d3-fffe-4112-97d7-a31c06691daa"
   },
   "outputs": [
    {
     "data": {
      "text/plain": [
       "numpy.ndarray"
      ]
     },
     "execution_count": 91,
     "metadata": {
      "tags": []
     },
     "output_type": "execute_result"
    }
   ],
   "source": [
    "type(y)"
   ]
  },
  {
   "cell_type": "code",
   "execution_count": null,
   "metadata": {
    "id": "Ck7Voa7HN_Ok"
   },
   "outputs": [],
   "source": [
    "# бинаризируем наши предсказания\n",
    "pred[pred > 0.5] = 1\n",
    "pred[pred <= 0.5] = 0"
   ]
  },
  {
   "cell_type": "code",
   "execution_count": null,
   "metadata": {
    "id": "Ts85uzXFN_Om",
    "outputId": "62122006-ec73-4b48-ccb2-ca6ad01d42a2"
   },
   "outputs": [
    {
     "data": {
      "text/plain": [
       "0.953125"
      ]
     },
     "execution_count": 93,
     "metadata": {
      "tags": []
     },
     "output_type": "execute_result"
    }
   ],
   "source": [
    "# посчитаем метрику на батче\n",
    "accuracy_score(y, pred)"
   ]
  },
  {
   "cell_type": "code",
   "execution_count": null,
   "metadata": {
    "id": "yoynJ1-2N_Op"
   },
   "outputs": [],
   "source": [
    "# заново определим нашу модель и выучимся несколько эпох\n",
    "# будут уже новые параметры\n",
    "model = MLP(in_features=784, inner_features=256, out_features=1)\n",
    "\n",
    "criterion = torch.nn.BCELoss()\n",
    "# мы позже поговорим про этот оптимизационный алгоритм\n",
    "optimizer = torch.optim.Adam(params=model.parameters())"
   ]
  },
  {
   "cell_type": "markdown",
   "metadata": {
    "id": "hzBgaRe7N_Os"
   },
   "source": [
    "# Типичный цикл обучения с кучей сохранений лоссов"
   ]
  },
  {
   "cell_type": "code",
   "execution_count": null,
   "metadata": {
    "id": "1zO6ruQbN_Ot",
    "outputId": "7d4304f2-a0f5-4c08-bd00-098719fe4df9"
   },
   "outputs": [
    {
     "name": "stderr",
     "output_type": "stream",
     "text": [
      "Epoch 1: 100%|██████████| 12396/12396 [00:02<00:00, 5310.30it/s, train_loss=0.0657]\n",
      "Epoch 2:   7%|▋         | 896/12396 [00:00<00:02, 5670.09it/s, train_loss=0.0484]"
     ]
    },
    {
     "name": "stdout",
     "output_type": "stream",
     "text": [
      "Losses: train - 0.066, test = 0.053\n",
      "Test: accuracy - 0.982\n"
     ]
    },
    {
     "name": "stderr",
     "output_type": "stream",
     "text": [
      "Epoch 2: 100%|██████████| 12396/12396 [00:02<00:00, 5621.27it/s, train_loss=0.0261]\n",
      "Epoch 3:   7%|▋         | 896/12396 [00:00<00:01, 5849.55it/s, train_loss=0.0251]"
     ]
    },
    {
     "name": "stdout",
     "output_type": "stream",
     "text": [
      "Losses: train - 0.026, test = 0.027\n",
      "Test: accuracy - 0.989\n"
     ]
    },
    {
     "name": "stderr",
     "output_type": "stream",
     "text": [
      "Epoch 3: 100%|██████████| 12396/12396 [00:02<00:00, 5689.22it/s, train_loss=0.0157]\n",
      "Epoch 4:   8%|▊         | 1024/12396 [00:00<00:01, 5858.12it/s, train_loss=0.0147]"
     ]
    },
    {
     "name": "stdout",
     "output_type": "stream",
     "text": [
      "Losses: train - 0.015, test = 0.024\n",
      "Test: accuracy - 0.992\n"
     ]
    },
    {
     "name": "stderr",
     "output_type": "stream",
     "text": [
      "Epoch 4: 100%|██████████| 12396/12396 [00:02<00:00, 5679.98it/s, train_loss=0.0107]\n",
      "Epoch 5:   7%|▋         | 896/12396 [00:00<00:01, 5810.79it/s, train_loss=0.011] "
     ]
    },
    {
     "name": "stdout",
     "output_type": "stream",
     "text": [
      "Losses: train - 0.011, test = 0.022\n",
      "Test: accuracy - 0.992\n"
     ]
    },
    {
     "name": "stderr",
     "output_type": "stream",
     "text": [
      "Epoch 5: 100%|██████████| 12396/12396 [00:02<00:00, 5580.47it/s, train_loss=0.00597]\n"
     ]
    },
    {
     "name": "stdout",
     "output_type": "stream",
     "text": [
      "Losses: train - 0.006, test = 0.022\n",
      "Test: accuracy - 0.992\n",
      "Early stopping\n"
     ]
    }
   ],
   "source": [
    "epochs = 10\n",
    "losses = []\n",
    "# нужно для early stopping, то есть трекать лучший лосс на валидации\n",
    "best_test_loss = 10.\n",
    "\n",
    "for n_epoch in range(epochs):\n",
    "    \n",
    "    train_losses = []\n",
    "    test_losses = []\n",
    "    test_preds = []\n",
    "    test_targets = []\n",
    "    \n",
    "    progress_bar = tqdm(total=len(train_loader.dataset), desc='Epoch {}'.format(n_epoch + 1))\n",
    "    \n",
    "    for x, y in train_loader:\n",
    "        \n",
    "        x = x.view(x.shape[0], -1)\n",
    "        y = y.unsqueeze(1).float()\n",
    "        \n",
    "        optimizer.zero_grad()\n",
    "        \n",
    "        pred = model(x)\n",
    "        \n",
    "        loss = criterion(pred, y.float())\n",
    "        \n",
    "        loss.backward()\n",
    "        \n",
    "        optimizer.step()\n",
    "        \n",
    "        train_losses.append(loss.item())\n",
    "        losses.append(loss.item())\n",
    "        \n",
    "        progress_bar.set_postfix(train_loss = np.mean(losses[-100:]))\n",
    "\n",
    "        progress_bar.update(x.shape[0])\n",
    "        \n",
    "    progress_bar.close()\n",
    "    \n",
    "    for x, y in test_loader:\n",
    "        \n",
    "        x = x.view(x.shape[0], -1)\n",
    "        y = y.unsqueeze(1).float()\n",
    "\n",
    "        with torch.no_grad():\n",
    "            \n",
    "            pred = model(x)\n",
    "            \n",
    "        test_preds.append(pred.numpy())\n",
    "        test_targets.append(y.numpy())\n",
    "\n",
    "        loss = criterion(pred, y)\n",
    "\n",
    "        test_losses.append(loss.item())\n",
    "        \n",
    "    mean_test_loss = np.mean(test_losses)\n",
    "        \n",
    "    print('Losses: train - {:.3f}, test = {:.3f}'.format(np.mean(train_losses), mean_test_loss))\n",
    "    \n",
    "    test_preds = np.concatenate(test_preds)\n",
    "    test_preds = test_preds.squeeze()\n",
    "    test_targets = np.concatenate(test_targets).squeeze()\n",
    "    \n",
    "    test_preds[test_preds > 0.5] = 1\n",
    "    test_preds[test_preds <= 0.5] = 0\n",
    "    \n",
    "    accurary = accuracy_score(test_targets, test_preds)\n",
    "\n",
    "    print('Test: accuracy - {:.3f}'.format(accurary))\n",
    "        \n",
    "    # как раз early stopping\n",
    "    # то есть: если наша функция потерь на валидационном датасете стала расти, то прекращаем обучение\n",
    "    # рост фунции потерь на валидационном датасете говорит о переобучении\n",
    "    # пожалуй, самый популярный метод валидации для нейронных сетей\n",
    "    if mean_test_loss < best_test_loss:\n",
    "        best_test_loss = mean_test_loss\n",
    "    else:\n",
    "        print('Early stopping')\n",
    "        break    "
   ]
  },
  {
   "cell_type": "code",
   "execution_count": null,
   "metadata": {
    "id": "U4URcBJPN_Ow",
    "outputId": "c5b2dd03-5307-4d95-80e5-99a3b65a3f65"
   },
   "outputs": [
    {
     "data": {
      "image/png": "[encoded data removed]",
      "text/plain": [
       "<Figure size 1008x864 with 1 Axes>"
      ]
     },
     "metadata": {
      "needs_background": "light",
      "tags": []
     },
     "output_type": "display_data"
    }
   ],
   "source": [
    "plt.figure(figsize=(14, 12))\n",
    "plt.plot(losses)\n",
    "plt.grid()\n",
    "plt.title('Training process')\n",
    "plt.xlabel('Iterations')\n",
    "plt.ylabel('Loss function');"
   ]
  }
 ],
 "metadata": {
  "accelerator": "GPU",
  "colab": {
   "name": "Homework1Part1.ipynb",
   "provenance": []
  },
  "kernelspec": {
   "display_name": "Python 3",
   "language": "python",
   "name": "python3"
  },
  "language_info": {
   "codemirror_mode": {
    "name": "ipython",
    "version": 3
   },
   "file_extension": ".py",
   "mimetype": "text/x-python",
   "name": "python",
   "nbconvert_exporter": "python",
   "pygments_lexer": "ipython3",
   "version": "3.8.3"
  }
 },
 "nbformat": 4,
 "nbformat_minor": 1
}
